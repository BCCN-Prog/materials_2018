{
 "cells": [
  {
   "cell_type": "markdown",
   "metadata": {},
   "source": [
    "## Exercise 1 – Deceivingly simple function"
   ]
  },
  {
   "cell_type": "markdown",
   "metadata": {},
   "source": [
    "*Goals: General practice of debugging and unit testing using agile development techniques.*\n",
    "\n",
    "The file `maxima.py` contains a function, `find_maxima`, that finds local maxima in a list and returns their indices. Please read the last sentence again: it returns the *indices*, not the *values*. ;)\n",
    "\n",
    "a) Test the function with these input arguments and others of your own invention until you are satisfied that it does the right thing for typical cases (remember that the function returns the indices of the maxima):\n",
    "\n",
    "    x = [0, 1, 2, 1, 2, 1, 0]\n",
    "    x = [-i**2 for i in range(-3, 4)]\n",
    "    x = [np.sin(2*alpha) for alpha in np.linspace(0.0, 5.0, 100)]\n",
    "\n",
    "b) Now try with the following inputs:\n",
    "\n",
    "     x = [4, 2, 1, 3, 1, 2]\n",
    "     x = [4, 2, 1, 3, 1, 5]\n",
    "     x = [4, 2, 1, 3, 1]\n",
    "\n",
    "c) You may think that the code is now clean and robust... Look at the output of the function for the input list\n",
    "\n",
    "    x = [1, 2, 2, 1]\n",
    "\n",
    "  Does the output correspond to your intuition? Think about a reasonable default behavior in this situation, and meditate on how such a simple function can hide so many complications\n",
    "\n",
    "d) Implement the “reasonable behavior” you conceived in c), adding a new test.\n",
    "   Make sure that your function handles these inputs correctly (include them in the tests):\n",
    "\n",
    "    x = [1, 2, 2, 3, 1]\n",
    "    x = [1, 3, 2, 2, 1]\n",
    "    x = [3, 2, 2, 3]\n"
   ]
  },
  {
   "cell_type": "code",
   "execution_count": null,
   "metadata": {
    "collapsed": true
   },
   "outputs": [],
   "source": []
  }
 ],
 "metadata": {
  "kernelspec": {
   "display_name": "Python 3",
   "language": "python",
   "name": "python3"
  },
  "language_info": {
   "codemirror_mode": {
    "name": "ipython",
    "version": 3
   },
   "file_extension": ".py",
   "mimetype": "text/x-python",
   "name": "python",
   "nbconvert_exporter": "python",
   "pygments_lexer": "ipython3",
   "version": "3.6.5"
  }
 },
 "nbformat": 4,
 "nbformat_minor": 1
}
